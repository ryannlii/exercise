{
  "nbformat": 4,
  "nbformat_minor": 0,
  "metadata": {
    "colab": {
      "provenance": [],
      "include_colab_link": true
    },
    "kernelspec": {
      "name": "python3",
      "display_name": "Python 3"
    },
    "language_info": {
      "name": "python"
    }
  },
  "cells": [
    {
      "cell_type": "markdown",
      "metadata": {
        "id": "view-in-github",
        "colab_type": "text"
      },
      "source": [
        "<a href=\"https://colab.research.google.com/github/ryannlii/exercise/blob/main/scp.ipynb\" target=\"_parent\"><img src=\"https://colab.research.google.com/assets/colab-badge.svg\" alt=\"Open In Colab\"/></a>"
      ]
    },
    {
      "cell_type": "code",
      "execution_count": 46,
      "metadata": {
        "id": "5iyRGZP7-1ET"
      },
      "outputs": [],
      "source": [
        "import numpy as np\n",
        "import time \n",
        "\n",
        "def setcovering(A, c, k):\n",
        "    start_time = time.time()\n",
        "    \n",
        "    m = A.shape[0] # i elements\n",
        "    n = A.shape[1] # j sets\n",
        "\n",
        "    x = np.zeros(n, dtype=int)\n",
        "   \n",
        "    count = np.zeros(m, dtype=int)\n",
        "\n",
        "    n_arr = np.sum(A, axis=0)\n",
        "    while np.any((count < 2)):\n",
        "      u_arr = np.zeros(5)\n",
        "\n",
        "      for i in range(n):\n",
        "        if n_arr[i] == 0: \n",
        "          u_arr[i] = np.inf\n",
        "        else:\n",
        "          u_arr[i] = c[i]/n_arr[i]\n",
        "\n",
        "      min = np.inf\n",
        "      index = 0\n",
        "      for i in range(n):\n",
        "        if u_arr[i] < min:\n",
        "          min = u_arr[i] \n",
        "          index = i;\n",
        "        else: \n",
        "          continue    \n",
        "\n",
        "      x[index] = 1\n",
        "      n_arr[index] = 0\n",
        "      ele = A[:,index]\n",
        "      count = count + ele\n",
        "\n",
        "    Time = time.time() - start_time\n",
        "    Obj = np.sum(x * c)\n",
        "    Size = np.sum(x)\n",
        "    return Obj, x, Time, Size\n",
        "\n",
        "             \n",
        "\n",
        "\n",
        "\n",
        "          \n",
        "\n",
        "\n"
      ]
    },
    {
      "cell_type": "code",
      "source": [
        "\n",
        "\n",
        "A = np.array([[1, 0, 0, 1, 0], [0, 0, 1, 1, 1], [1, 0, 1, 0, 0]])\n",
        "c = np.array([1, 2, 3, 4, 5])\n",
        "k = 2\n",
        "\n",
        "Obj, x, Time, Size = setcovering(A, c, k)\n",
        "\n",
        "print(Obj)\n",
        "print(x)\n",
        "print(Time)\n",
        "print(Size)\n",
        "\n",
        "\n",
        "\n",
        "\n",
        "    "
      ],
      "metadata": {
        "colab": {
          "base_uri": "https://localhost:8080/"
        },
        "id": "zJR75-NXB3fQ",
        "outputId": "36ebb56d-b8ce-45b5-cc24-56f062e02e61"
      },
      "execution_count": 47,
      "outputs": [
        {
          "output_type": "stream",
          "name": "stdout",
          "text": [
            "8\n",
            "[1 0 1 1 0]\n",
            "0.00031685829162597656\n",
            "3\n"
          ]
        }
      ]
    }
  ]
}